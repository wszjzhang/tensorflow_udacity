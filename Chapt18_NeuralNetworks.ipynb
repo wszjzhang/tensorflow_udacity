{
 "cells": [
  {
   "cell_type": "markdown",
   "metadata": {},
   "source": [
    "---\n",
    "\n",
    "# Neural Networks\n",
    "\n",
    "___\n",
    "\n",
    "An artificial neural network is a predictive model motivated by the way the brain operates. Think of the brain as a collection of neurons wired together."
   ]
  },
  {
   "cell_type": "code",
   "execution_count": 23,
   "metadata": {
    "collapsed": true
   },
   "outputs": [],
   "source": [
    "%matplotlib inline\n",
    "import numpy as np\n",
    "import matplotlib \n",
    "import matplotlib.pyplot as plt\n",
    "import random"
   ]
  },
  {
   "cell_type": "markdown",
   "metadata": {},
   "source": [
    "## Perceptrons\n",
    "___\n",
    "\n",
    "The simplest neural network is the perceptron, which approximates a single neuron. It computes a weighted sum of its inputs and fires."
   ]
  },
  {
   "cell_type": "code",
   "execution_count": 14,
   "metadata": {
    "collapsed": true
   },
   "outputs": [],
   "source": [
    "def step_function(x):\n",
    "    return 1 if x >= 0 else 0\n",
    "\n",
    "def perceptron_output(weights, bias, x):\n",
    "    \"\"\" returns 1 if the perceptron fires, 0 if not\"\"\"\n",
    "    calculation = np.dot(weights, x) + bias\n",
    "    return step_function(calculation)"
   ]
  },
  {
   "cell_type": "markdown",
   "metadata": {},
   "source": [
    "## Feed-Forward Neural networks\n",
    "___\n",
    "\n",
    "Feed-Forward neural network entails an input layer, one or more hidden layers, and an output layer. "
   ]
  },
  {
   "cell_type": "code",
   "execution_count": 15,
   "metadata": {
    "collapsed": false
   },
   "outputs": [],
   "source": [
    "def sigmoid(t):\n",
    "    return 1/(1 + np.exp(-t))\n",
    "\n",
    "def neuron_output(weights, inputs):\n",
    "    return sigmoid(np.dot(weights, inputs))"
   ]
  },
  {
   "cell_type": "markdown",
   "metadata": {},
   "source": [
    "In order to train a neural network, we'll need to use calculus, and in order to use calculus, we need smooth functions. Sigmoid function is a good approximation."
   ]
  },
  {
   "cell_type": "markdown",
   "metadata": {},
   "source": [
    "Then we can represent a neural network as a list of layers, where each layer is just a list of the nuerons in that layer."
   ]
  },
  {
   "cell_type": "code",
   "execution_count": 16,
   "metadata": {
    "collapsed": false
   },
   "outputs": [],
   "source": [
    "def feed_forward(neural_network, input_vector):\n",
    "    \"\"\"takes in a neural network\n",
    "        and returns the output from forward-propagating the input\"\"\"\n",
    "    outputs = []\n",
    "    \n",
    "    #process one layer at a time\n",
    "    for layer in neural_network:\n",
    "        input_with_bias = input_vector + [1]\n",
    "        output = [neuron_output(neuron, input_with_bias) for neuron in layer]\n",
    "        outputs.append(output)\n",
    "        input_vector = output\n",
    "    \n",
    "    return outputs"
   ]
  },
  {
   "cell_type": "code",
   "execution_count": 17,
   "metadata": {
    "collapsed": false
   },
   "outputs": [
    {
     "name": "stdout",
     "output_type": "stream",
     "text": [
      "0 0 [9.3831466830067595e-14]\n",
      "0 1 [0.99999999999990585]\n",
      "1 0 [0.99999999999990585]\n",
      "1 1 [9.3831466830068276e-14]\n"
     ]
    }
   ],
   "source": [
    "xor_network = [#hidden layer\n",
    "                [[20, 20, -30],    # 'and' neuron\n",
    "                 [20, 20, -10]],   # 'or' neuron\n",
    "                # output layer\n",
    "                [[-60,60, -30]]]   # 2nd input but not first input\n",
    "\n",
    "for x in [0, 1]:\n",
    "    for y in [0, 1]:\n",
    "        print x, y, feed_forward(xor_network, [x, y])[-1]"
   ]
  },
  {
   "cell_type": "markdown",
   "metadata": {},
   "source": [
    "## Backpropagation\n",
    "\n",
    "___\n",
    "As usual we use data to train neutal networks. One popular approach is an algorithm called backpropagation that has similarities to the gradient descent algorithm. \n",
    "\n",
    "We adjust weights in the neural network using the algorithm:\n",
    "1. Run feed_forward on an input vector to produce the outputs of all the neurons in the net work.\n",
    "2. This results in an error for each output neuron -- the difference between its output and its target\n",
    "3. Compotes the gradient of this error as a function of the neuron's weights, and adjust its weights in the direction that most decreases the error.\n",
    "4. \"Propagate\" these output errors backward to infer errors for the hiden layer.\n",
    "5. Compute the gradients of these errors and adjust the weights of hidden layers.\n"
   ]
  },
  {
   "cell_type": "code",
   "execution_count": 18,
   "metadata": {
    "collapsed": false
   },
   "outputs": [],
   "source": [
    "def backpropagate(network, input_vector, targets):\n",
    "    \n",
    "    hidden_outputs, outputs = feed_forward(network, input_vector)\n",
    "    \n",
    "    # the output*(1-output) is from the derivative of sigmoid\n",
    "    output_deltas = [output * (1 - output)*(output - target) \n",
    "                    for output, target in zip(outputs, targets)]\n",
    "    \n",
    "    # adjust weights for output layer, one neuron at a time\n",
    "    for i, output_neuron in enumerate(network[-1]):\n",
    "        # ith output layer neuron \n",
    "        for j, hidden_output in enumerate(hidden_outputs + [1]):\n",
    "            # adjust jth weight based on this neuron's delta and ij input\n",
    "            output_neuron[j] -= output_deltas[i]*hidden_output\n",
    "         \n",
    "    # back-propagate errors to hidden layer\n",
    "    hidden_deltas = [hidden_output * (1 - hidden_output) *\n",
    "                    np.dot(output_deltas, [n[i] for n in output_layer])\n",
    "                    for i, hidden_output in enumerate(hidden_outputs)]\n",
    "        \n",
    "    # adjust weights for hidden layer, one neuron at atime\n",
    "    for i, hidden_neuron in enumerate(network[0]):\n",
    "        for j, input in enumerate(input_vector + [1]):\n",
    "            hidden_neuron[j] -= hidden_deltas[i] * input"
   ]
  },
  {
   "cell_type": "markdown",
   "metadata": {},
   "source": [
    "___\n",
    "\n",
    "## Example: Defeating CAPTCHA \n",
    "---"
   ]
  },
  {
   "cell_type": "markdown",
   "metadata": {},
   "source": [
    "### define the neural network \n",
    "input element: 5*5 = 25;\n",
    "1 hidden layer with 5 neurons; \n",
    "output layer with 10 neurons; \n",
    "each neuron is a 10 element vector represent 10 digits"
   ]
  },
  {
   "cell_type": "code",
   "execution_count": 19,
   "metadata": {
    "collapsed": false
   },
   "outputs": [],
   "source": [
    "#############################\n",
    "# neural network definition #\n",
    "#############################\n",
    "\n",
    "random.seed(0)\n",
    "input_size = 25 # each input is a vector of length 25\n",
    "num_hidden = 5  # 1 hidden layer, we'll have 5 neurons in the hidden layer\n",
    "output_size = 10 # we need 10 outputs for each input\n",
    "\n",
    "# each hidden neuron has one weight per input, plus a bias weight\n",
    "hidden_layer = [[random.random() for _ in xrange(input_size + 1)]\n",
    "               for __ in xrange(num_hidden)]\n",
    "\n",
    "# each output neuron has one weight per hidden neuron, plus a bias weight\n",
    "output_layer = [[random.random() for _ in xrange(num_hidden + 1)]\n",
    "               for __ in xrange(output_size)]\n",
    "\n",
    "# the network starts out with random weights\n",
    "network = [hidden_layer, output_layer]\n"
   ]
  },
  {
   "cell_type": "markdown",
   "metadata": {},
   "source": [
    "### Train neural network"
   ]
  },
  {
   "cell_type": "code",
   "execution_count": 20,
   "metadata": {
    "collapsed": false
   },
   "outputs": [
    {
     "data": {
      "text/plain": [
       "[0.024521973898174929,\n",
       " 1.0576030623170791e-05,\n",
       " 1.3956363060379508e-10,\n",
       " 0.017400413633184932,\n",
       " 0.0010424389791314197,\n",
       " 6.8281060788083614e-10,\n",
       " 3.2721925578057628e-08,\n",
       " 0.96889849594860245,\n",
       " 1.1664852765015362e-08,\n",
       " 2.4400695314417383e-08]"
      ]
     },
     "execution_count": 20,
     "metadata": {},
     "output_type": "execute_result"
    }
   ],
   "source": [
    "###########################\n",
    "# neural network training #\n",
    "###########################\n",
    "\n",
    "zero = [1,1,1,1,1,\n",
    "        1,0,0,0,1,\n",
    "        1,0,0,0,1,\n",
    "        1,0,0,0,1,\n",
    "        1,1,1,1,1]\n",
    "one = [0,0,1,0,0,\n",
    "        0,0,1,0,0,\n",
    "        0,0,1,0,0,\n",
    "        0,0,1,0,0,\n",
    "        0,0,1,0,0]\n",
    "two = [1,1,1,1,1,\n",
    "        0,0,0,0,1,\n",
    "        1,1,1,1,1,\n",
    "        1,0,0,0,0,\n",
    "        1,1,1,1,1]\n",
    "three = [1,1,1,1,1,\n",
    "        0,0,0,0,1,\n",
    "        1,1,1,1,1,\n",
    "        0,0,0,0,1,\n",
    "        1,1,1,1,1]\n",
    "four = [1,0,0,0,1,\n",
    "        1,0,0,0,1,\n",
    "        1,1,1,1,1,\n",
    "        0,0,0,0,1,\n",
    "        0,0,0,0,1]\n",
    "five = [1,1,1,1,1,\n",
    "        1,0,0,0,0,\n",
    "        1,1,1,1,1,\n",
    "        0,0,0,0,1,\n",
    "        1,1,1,1,1]\n",
    "six = [1,1,1,1,1,\n",
    "        1,0,0,0,0,\n",
    "        1,1,1,1,1,\n",
    "        1,0,0,0,1,\n",
    "        1,1,1,1,1]\n",
    "seven = [1,1,1,1,1,\n",
    "        0,0,0,0,1,\n",
    "        0,0,0,0,1,\n",
    "        0,0,0,0,1,\n",
    "        0,0,0,0,1]\n",
    "eight = [1,1,1,1,1,\n",
    "        1,0,0,0,1,\n",
    "        1,1,1,1,1,\n",
    "        1,0,0,0,1,\n",
    "        1,1,1,1,1]\n",
    "nine = [1,1,1,1,1,\n",
    "        1,0,0,0,1,\n",
    "        1,1,1,1,1,\n",
    "        0,0,0,0,1,\n",
    "        1,1,1,1,1]\n",
    "inputs = [zero, one, two, three, four, five, six, seven, eight, nine]\n",
    "targets = [[1 if i == j else 0 for i in xrange(10)]\n",
    "          for j in xrange(10)]\n",
    "\n",
    "# 10,000 iterations seems enough to converge\n",
    "for _ in xrange(10000):\n",
    "    for input_vector, target_vector in zip(inputs, targets):\n",
    "        backpropagate(network, input_vector, target_vector)\n",
    "\n",
    "\n",
    "def predict(input):\n",
    "    return feed_forward(network, input)[-1]\n",
    "predict(inputs[7])"
   ]
  },
  {
   "cell_type": "code",
   "execution_count": 21,
   "metadata": {
    "collapsed": false
   },
   "outputs": [
    {
     "data": {
      "text/plain": [
       "[0.0024748891253380226,\n",
       " 1.3500399517235218e-14,\n",
       " 7.0038209359308007e-10,\n",
       " 1.0479803347849043e-05,\n",
       " 2.1715577993551197e-09,\n",
       " 0.04535706395954088,\n",
       " 0.00049215604435028895,\n",
       " 2.2383093862239574e-06,\n",
       " 0.95369325528868609,\n",
       " 0.25686602211802206]"
      ]
     },
     "execution_count": 21,
     "metadata": {},
     "output_type": "execute_result"
    }
   ],
   "source": [
    "predict([1,1,1,1,1,\n",
    "        1,0,0,0,1,\n",
    "        1,1,1,1,1,\n",
    "        1,1,0,0,1,\n",
    "        1,1,1,1,1])"
   ]
  },
  {
   "cell_type": "markdown",
   "metadata": {},
   "source": [
    "### explore"
   ]
  },
  {
   "cell_type": "code",
   "execution_count": 24,
   "metadata": {
    "collapsed": false
   },
   "outputs": [
    {
     "data": {
      "image/png": "[encoded data removed]",
      "text/plain": [
       "<matplotlib.figure.Figure at 0x10580a810>"
      ]
     },
     "metadata": {},
     "output_type": "display_data"
    }
   ],
   "source": [
    "weights = network[0][0]\n",
    "abs_weights = map(abs, weights)\n",
    "grid = [abs_weights[row:(row+5)]\n",
    "       for row in range(0,25,5)]\n",
    "\n",
    "ax = plt.gca()\n",
    "\n",
    "ax.imshow(grid,\n",
    "         cmap=matplotlib.cm.binary,\n",
    "         interpolation='none')\n",
    "\n",
    "def patch(x, y, hatch, color):\n",
    "    return matplotlib.patches.Rectangle((x-0.5, y-0.5), 1, 1,\n",
    "                                hatch = hatch, fill=False, color=color)\n",
    "\n",
    "for i in range(5):\n",
    "    for j in range(5):\n",
    "        if weights[5*i+j] < 0:\n",
    "            ax.add_patch(patch(j, i, '/', \"white\"))\n",
    "            ax.add_patch(patch(j, i, '\\\\', \"black\"))"
   ]
  },
  {
   "cell_type": "code",
   "execution_count": null,
   "metadata": {
    "collapsed": true
   },
   "outputs": [],
   "source": []
  }
 ],
 "metadata": {
  "kernelspec": {
   "display_name": "Python 2",
   "language": "python",
   "name": "python2"
  },
  "language_info": {
   "codemirror_mode": {
    "name": "ipython",
    "version": 2
   },
   "file_extension": ".py",
   "mimetype": "text/x-python",
   "name": "python",
   "nbconvert_exporter": "python",
   "pygments_lexer": "ipython2",
   "version": "2.7.10"
  }
 },
 "nbformat": 4,
 "nbformat_minor": 0
}
